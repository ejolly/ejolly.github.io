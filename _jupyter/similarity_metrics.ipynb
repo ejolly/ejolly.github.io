{
 "cells": [
  {
   "cell_type": "markdown",
   "metadata": {},
   "source": [
    "# Relationship between common similarity metrics \n",
    "[Reference](https://brenocon.com/blog/2012/03/cosine-similarity-pearson-correlation-and-ols-coefficients/)"
   ]
  },
  {
   "cell_type": "code",
   "execution_count": 41,
   "metadata": {
    "ExecuteTime": {
     "end_time": "2018-04-12T22:38:26.703682Z",
     "start_time": "2018-04-12T22:38:26.684426Z"
    }
   },
   "outputs": [],
   "source": [
    "# Import some stuff\n",
    "import numpy as np\n",
    "import pandas as pd\n",
    "import scipy.spatial.distance as spd\n",
    "from pymer4.simulate import easy_multivariate_normal\n",
    "from pymer4.models import Lm\n",
    "import matplotlib.pyplot as plt\n",
    "% matplotlib inline"
   ]
  },
  {
   "cell_type": "code",
   "execution_count": 93,
   "metadata": {
    "ExecuteTime": {
     "end_time": "2018-04-12T22:53:28.646348Z",
     "start_time": "2018-04-12T22:53:28.643029Z"
    }
   },
   "outputs": [],
   "source": [
    "# Prep some data \n",
    "X = easy_multivariate_normal(50,2,corrs=.2)\n",
    "a, b = X[:,0], X[:,1]"
   ]
  },
  {
   "cell_type": "markdown",
   "metadata": {},
   "source": [
    "## Inner product"
   ]
  },
  {
   "cell_type": "code",
   "execution_count": 94,
   "metadata": {
    "ExecuteTime": {
     "end_time": "2018-04-12T22:53:29.952205Z",
     "start_time": "2018-04-12T22:53:29.948269Z"
    }
   },
   "outputs": [
    {
     "data": {
      "text/plain": [
       "-2.8071010155482368"
      ]
     },
     "execution_count": 94,
     "metadata": {},
     "output_type": "execute_result"
    }
   ],
   "source": [
    "np.dot(a,b)"
   ]
  },
  {
   "cell_type": "markdown",
   "metadata": {},
   "source": [
    "## Covariance  \n",
    "Average centered inner product"
   ]
  },
  {
   "cell_type": "code",
   "execution_count": 95,
   "metadata": {
    "ExecuteTime": {
     "end_time": "2018-04-12T22:53:32.082912Z",
     "start_time": "2018-04-12T22:53:32.078972Z"
    }
   },
   "outputs": [
    {
     "data": {
      "text/plain": [
       "-0.06920945007922867"
      ]
     },
     "execution_count": 95,
     "metadata": {},
     "output_type": "execute_result"
    }
   ],
   "source": [
    "a_centered = a - a.mean()\n",
    "b_centered = b - b.mean()\n",
    "\n",
    "np.dot(a_centered,b_centered) / len(a) # could have used len(b) instead"
   ]
  },
  {
   "cell_type": "code",
   "execution_count": 96,
   "metadata": {
    "ExecuteTime": {
     "end_time": "2018-04-12T22:53:34.676662Z",
     "start_time": "2018-04-12T22:53:34.671982Z"
    }
   },
   "outputs": [
    {
     "data": {
      "text/plain": [
       "-0.06920945007922867"
      ]
     },
     "execution_count": 96,
     "metadata": {},
     "output_type": "execute_result"
    }
   ],
   "source": [
    "# Check our work\n",
    "np.cov(a,b,ddof=0)[0][1]"
   ]
  },
  {
   "cell_type": "markdown",
   "metadata": {},
   "source": [
    "## Cosine Similarity  \n",
    "Normalized (L2) inner product"
   ]
  },
  {
   "cell_type": "code",
   "execution_count": 97,
   "metadata": {
    "ExecuteTime": {
     "end_time": "2018-04-12T22:53:49.693274Z",
     "start_time": "2018-04-12T22:53:49.687948Z"
    }
   },
   "outputs": [
    {
     "data": {
      "text/plain": [
       "-0.049727707335311774"
      ]
     },
     "execution_count": 97,
     "metadata": {},
     "output_type": "execute_result"
    }
   ],
   "source": [
    "# Euclidean/L2 norm = square root of sum of squared values\n",
    "# algebra form\n",
    "a_norm = np.sqrt(np.sum(np.power(a,2)))\n",
    "# matrix form\n",
    "b_norm = np.sqrt(np.dot(b,b.T)) \n",
    "# numpy short-cut\n",
    "# np.linalg.norm(a)\n",
    "np.dot(a,b) / (a_norm * b_norm)"
   ]
  },
  {
   "cell_type": "code",
   "execution_count": 98,
   "metadata": {
    "ExecuteTime": {
     "end_time": "2018-04-12T22:53:50.576234Z",
     "start_time": "2018-04-12T22:53:50.571817Z"
    }
   },
   "outputs": [
    {
     "data": {
      "text/plain": [
       "-0.04972770733531173"
      ]
     },
     "execution_count": 98,
     "metadata": {},
     "output_type": "execute_result"
    }
   ],
   "source": [
    "# Check our work (subract 1 because scipy returns distances)\n",
    "1 - spd.cosine(a,b)"
   ]
  },
  {
   "cell_type": "markdown",
   "metadata": {},
   "source": [
    "## Pearson Correlation  \n",
    "Normalized (L2) centered inner product"
   ]
  },
  {
   "cell_type": "code",
   "execution_count": 99,
   "metadata": {
    "ExecuteTime": {
     "end_time": "2018-04-12T22:53:53.064615Z",
     "start_time": "2018-04-12T22:53:53.060766Z"
    }
   },
   "outputs": [
    {
     "data": {
      "text/plain": [
       "-0.06299972596364047"
      ]
     },
     "execution_count": 99,
     "metadata": {},
     "output_type": "execute_result"
    }
   ],
   "source": [
    "# Can think of this as normalized covariance OR centered cosine similarity\n",
    "a_centered_norm = np.linalg.norm(a_centered)\n",
    "b_centered_norm = np.linalg.norm(b_centered)\n",
    "np.dot(a_centered,b_centered) / (a_centered_norm * b_centered_norm)"
   ]
  },
  {
   "cell_type": "code",
   "execution_count": 100,
   "metadata": {
    "ExecuteTime": {
     "end_time": "2018-04-12T22:53:58.395562Z",
     "start_time": "2018-04-12T22:53:58.392324Z"
    }
   },
   "outputs": [
    {
     "data": {
      "text/plain": [
       "-0.06299972596364034"
      ]
     },
     "execution_count": 100,
     "metadata": {},
     "output_type": "execute_result"
    }
   ],
   "source": [
    "# Check our work\n",
    "1 - spd.correlation(a,b)"
   ]
  },
  {
   "cell_type": "markdown",
   "metadata": {},
   "source": [
    "## OLS (univariate w/o intercept)  \n",
    "Partially normalized inner product, where partially means applied to only one vector"
   ]
  },
  {
   "cell_type": "code",
   "execution_count": 101,
   "metadata": {
    "ExecuteTime": {
     "end_time": "2018-04-12T22:53:59.851145Z",
     "start_time": "2018-04-12T22:53:59.847384Z"
    }
   },
   "outputs": [
    {
     "data": {
      "text/plain": [
       "-0.06164964567554537"
      ]
     },
     "execution_count": 101,
     "metadata": {},
     "output_type": "execute_result"
    }
   ],
   "source": [
    "# Can think of this as cosine similarity using only one vector\n",
    "np.dot(a,b) / (a_norm * a_norm)"
   ]
  },
  {
   "cell_type": "code",
   "execution_count": 103,
   "metadata": {
    "ExecuteTime": {
     "end_time": "2018-04-12T22:54:13.947015Z",
     "start_time": "2018-04-12T22:54:13.933715Z"
    }
   },
   "outputs": [
    {
     "data": {
      "text/plain": [
       "-0.06164964567554537"
      ]
     },
     "execution_count": 103,
     "metadata": {},
     "output_type": "execute_result"
    }
   ],
   "source": [
    "# Check our work\n",
    "model = Lm('B ~ 0 + A',data=pd.DataFrame({'A':a,'B':b}))\n",
    "model.fit(summarize=False)\n",
    "model.coefs.iloc[-1,0]"
   ]
  },
  {
   "cell_type": "markdown",
   "metadata": {},
   "source": [
    "## OLS (univariate w/ intercept)  \n",
    "Centered, partially normalized inner product, where partially means applied to only one vector\n"
   ]
  },
  {
   "cell_type": "code",
   "execution_count": 108,
   "metadata": {
    "ExecuteTime": {
     "end_time": "2018-04-12T22:55:28.122411Z",
     "start_time": "2018-04-12T22:55:28.118844Z"
    }
   },
   "outputs": [
    {
     "data": {
      "text/plain": [
       "-0.07620054357106859"
      ]
     },
     "execution_count": 108,
     "metadata": {},
     "output_type": "execute_result"
    }
   ],
   "source": [
    "# In the numerator we could actually center a or b, or both.\n",
    "np.dot(a_centered,b) / (a_centered_norm * a_centered_norm)"
   ]
  },
  {
   "cell_type": "code",
   "execution_count": 105,
   "metadata": {
    "ExecuteTime": {
     "end_time": "2018-04-12T22:54:22.631974Z",
     "start_time": "2018-04-12T22:54:22.618362Z"
    }
   },
   "outputs": [
    {
     "data": {
      "text/plain": [
       "-0.07620054357106855"
      ]
     },
     "execution_count": 105,
     "metadata": {},
     "output_type": "execute_result"
    }
   ],
   "source": [
    "# Check our work\n",
    "model = Lm('B ~ A',data=pd.DataFrame({'A':a,'B':b}))\n",
    "model.fit(summarize=False)\n",
    "model.coefs.iloc[-1,0]"
   ]
  }
 ],
 "metadata": {
  "hide_input": false,
  "kernelspec": {
   "display_name": "Python [conda root]",
   "language": "python",
   "name": "conda-root-py"
  },
  "language_info": {
   "codemirror_mode": {
    "name": "ipython",
    "version": 3
   },
   "file_extension": ".py",
   "mimetype": "text/x-python",
   "name": "python",
   "nbconvert_exporter": "python",
   "pygments_lexer": "ipython3",
   "version": "3.6.3"
  },
  "toc": {
   "nav_menu": {},
   "number_sections": false,
   "sideBar": true,
   "skip_h1_title": false,
   "toc_cell": false,
   "toc_position": {},
   "toc_section_display": "block",
   "toc_window_display": false
  }
 },
 "nbformat": 4,
 "nbformat_minor": 2
}
